{
 "cells": [
  {
   "cell_type": "raw",
   "id": "61cefa35",
   "metadata": {},
   "source": [
    "Consider there are **N** airports in the world, each airport has a plane available with limited units of fuel\n",
    "available to fly. \n",
    "\n",
    "You are initially positioned at airport **number one** and you have to reach the last airport (**N**) by hiring\n",
    "a **minimum** number of planes. You'd need 1 unit of fuel to fly to the nearest airport from any airport. \n",
    "\n",
    "You will be given an array of N numbers each representing the units of fuel available in the plane at that particular\n",
    "airport. Print the number of planes you'd need to hire to reach the last airport. If it is not possible to reach the\n",
    "last airport, return -1\n",
    "\n",
    "Example: \n",
    "\n",
    "Array = [2,1,2,3,1]\n",
    "\n",
    "In the given array, there are 5 airports, the plane at the starting airport has 2 units of fuel so you can hire \n",
    "this plane and stop at the 2nd or 3rd airport. The plane at the 2nd airport has 1 unit of fuel so it can fly to \n",
    "the 3rd airport only. The minimum number of planes required in this case is two 2 → 2→ 1. \n",
    "\n",
    "Example 2:\n",
    "\n",
    "Array = [1,6,3,4,5,0,0,0,6]\n",
    "\n",
    "In the given array, there are 9 airports, the plane at the starting airport has 1 unit of fuel, \n",
    "so you can hire this plane and stop at the 2nd airport only. The plane at the 2nd airport has 6 \n",
    "units of fuel, so it can fly to the 3rd, 4th, 5th, 6th, 7th, or 8th airport. If we take the plane\n",
    "at the 5th airport, the minimum number of planes required in this case is three 1 → 6 → 5 → 6"
   ]
  },
  {
   "cell_type": "code",
   "execution_count": 1,
   "id": "d0f8278e",
   "metadata": {},
   "outputs": [],
   "source": [
    "def min_no_planes(array):\n",
    "    current_fuel = 1  #Initialize the current fuel to 1 (as we need at least 1 fuel unit to travel to the next airport)\n",
    "    num_planes = 0   \n",
    "    current_pos = 0\n",
    "    \n",
    "    while current_pos < len(array)-1:\n",
    "        max_fuel = 0\n",
    "        max_fuel_pos = -1\n",
    "        \n",
    "        # Find the airport that can be reached with the maximum fuel capacity\n",
    "        for i in range(current_pos+1, min(current_pos+current_fuel+1, len(array))):\n",
    "            if array[i] >= max_fuel:\n",
    "                max_fuel = array[i]\n",
    "                max_fuel_pos = i\n",
    "        \n",
    "        # If no airport can be reached with the current fuel, it's not possible to reach the last airport\n",
    "        if max_fuel_pos == -1:\n",
    "            return -1\n",
    "        \n",
    "        current_fuel = max_fuel\n",
    "        current_pos = max_fuel_pos\n",
    "        num_planes += 1\n",
    "        \n",
    "    return num_planes\n"
   ]
  },
  {
   "cell_type": "raw",
   "id": "d98a1e87",
   "metadata": {},
   "source": [
    "This problem can be solved using a Greedy approach. We can keep track of the farthest airport\n",
    "that can be reached with the current fuel and hire a new plane if we cannot reach the next \n",
    "airport using the current plane's fuel. The approach is as follows:\n",
    "\n",
    "Initialize the current fuel to 1 (as we need at least 1 fuel unit to travel to the next airport)\n",
    "and the number of planes hired to 0.\n",
    "Loop through the airports from the starting airport to the last airport.\n",
    "If the current fuel is not enough to reach the next airport, hire a new plane with the maximum \n",
    "fuel capacity from the airports that can be reached with the current fuel. If there are no airports\n",
    "that can be reached with the current fuel, it is not possible to reach the last airport, so return -1.\n",
    "Update the current fuel to the maximum fuel capacity of the hired plane and increment the number of planes hired.\n",
    "If we have reached the last airport, return the number of planes hired."
   ]
  }
 ],
 "metadata": {
  "kernelspec": {
   "display_name": "Python 3 (ipykernel)",
   "language": "python",
   "name": "python3"
  },
  "language_info": {
   "codemirror_mode": {
    "name": "ipython",
    "version": 3
   },
   "file_extension": ".py",
   "mimetype": "text/x-python",
   "name": "python",
   "nbconvert_exporter": "python",
   "pygments_lexer": "ipython3",
   "version": "3.9.12"
  }
 },
 "nbformat": 4,
 "nbformat_minor": 5
}
